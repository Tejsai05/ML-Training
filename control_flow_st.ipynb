{
  "nbformat": 4,
  "nbformat_minor": 0,
  "metadata": {
    "colab": {
      "provenance": []
    },
    "kernelspec": {
      "name": "python3",
      "display_name": "Python 3"
    },
    "language_info": {
      "name": "python"
    }
  },
  "cells": [
    {
      "cell_type": "code",
      "source": [
        "#control flow statements-break,pass,continue\n",
        "x=['tej','sai','mylavarapu']\n",
        "for i in x:\n",
        "  if i=='sai':\n",
        "    continue\n",
        "  print(\"name\",i)\n",
        "  #it doesnot prints the specific st and prints remaining"
      ],
      "metadata": {
        "colab": {
          "base_uri": "https://localhost:8080/"
        },
        "id": "Sxo7SEI85zNM",
        "outputId": "2b1e3315-c850-4ce7-edc9-a2c256d70960"
      },
      "execution_count": null,
      "outputs": [
        {
          "output_type": "stream",
          "name": "stdout",
          "text": [
            "name tej\n",
            "name mylavarapu\n"
          ]
        }
      ]
    },
    {
      "cell_type": "code",
      "execution_count": 19,
      "metadata": {
        "colab": {
          "base_uri": "https://localhost:8080/"
        },
        "id": "0o2sHUZl5AWq",
        "outputId": "da5d3921-6e07-49dd-c1b6-a9135a0b3c1c"
      },
      "outputs": [
        {
          "output_type": "stream",
          "name": "stdout",
          "text": [
            "hello 1\n",
            "hello 3\n",
            "hello 5\n",
            "hello 7\n"
          ]
        }
      ],
      "source": [
        "for i in range(1,9,2):\n",
        "  if i==5:\n",
        "    pass\n",
        "  print(\"hello\",i)\n",
        "#used to skip the line and can be used in future"
      ]
    },
    {
      "cell_type": "code",
      "source": [
        "for i in range(1,9,2):\n",
        "  print(i)"
      ],
      "metadata": {
        "id": "KwYfI7hV6xH3",
        "colab": {
          "base_uri": "https://localhost:8080/"
        },
        "outputId": "59f7c319-ee49-437b-8524-613fa5618b42"
      },
      "execution_count": 18,
      "outputs": [
        {
          "output_type": "stream",
          "name": "stdout",
          "text": [
            "1\n",
            "3\n",
            "5\n",
            "7\n"
          ]
        }
      ]
    },
    {
      "cell_type": "code",
      "source": [
        "#it stops executing when 7 is triggered\n",
        "x=[2,5,7,8,0]\n",
        "for i in x:\n",
        "  if i==7:\n",
        "    break\n",
        "  print(\"out of stock\",i)"
      ],
      "metadata": {
        "id": "NzgXOcZI6bF5",
        "colab": {
          "base_uri": "https://localhost:8080/"
        },
        "outputId": "870f1779-ff27-45be-9877-74982a6efca8"
      },
      "execution_count": 16,
      "outputs": [
        {
          "output_type": "stream",
          "name": "stdout",
          "text": [
            "out of stock 2\n",
            "out of stock 5\n"
          ]
        }
      ]
    },
    {
      "cell_type": "code",
      "source": [],
      "metadata": {
        "id": "r_YiCFWR6m-v"
      },
      "execution_count": null,
      "outputs": []
    }
  ]
}